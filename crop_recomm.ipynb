!pip install gradio
import pandas as pd
from sklearn import preprocessing
from sklearn.neighbors import KNeighborsClassifier
import numpy as np
import gradio as gr

# Load and prepare data
excel = pd.read_excel('../crop.xlsx', header=0)
le = preprocessing.LabelEncoder()
crop = le.fit_transform(list(excel["CROP"]))

NITROGEN = list(excel["NITROGEN"])
PHOSPHORUS = list(excel["PHOSPHORUS"])
POTASSIUM = list(excel["POTASSIUM"])
TEMPERATURE = list(excel["TEMPERATURE"])
HUMIDITY = list(excel["HUMIDITY"])
PH = list(excel["PH"])
RAINFALL = list(excel["RAINFALL"])

features = np.array([NITROGEN, PHOSPHORUS, POTASSIUM, TEMPERATURE, HUMIDITY, PH, RAINFALL]).transpose()
model = KNeighborsClassifier(n_neighbors=3)
model.fit(features, crop)

def predict_crop(nitrogen, phosphorus, potassium, temperature, humidity, ph, rainfall):
    input_data = [nitrogen, phosphorus, potassium, temperature, humidity, ph, rainfall]
    predict1 = np.array(input_data).reshape(1, -1)
    prediction = model.predict(predict1)

    try:
        inverse_transformed = le.inverse_transform(prediction)
        if inverse_transformed is not None and len(inverse_transformed) > 0:
            crop_name = inverse_transformed[0]
        else:
            crop_name = f"Unknown (Code: {prediction[0]})"
    except Exception as e:
        crop_name = f"Unknown (Code: {prediction[0]})"

    details = get_condition_details(input_data)

    return f"The best crop that you can grow is: {crop_name}\n\n{details}"

def get_condition_details(data):
    n, p, k, temp, humidity, ph, rainfall = data

    details = f"Soil Conditions:\n"
    details += f"Nitrogen: {'High' if n > 100 else 'Medium' if n > 50 else 'Low'}\n"
    details += f"Phosphorus: {'High' if p > 100 else 'Medium' if p > 50 else 'Low'}\n"
    details += f"Potassium: {'High' if k > 100 else 'Medium' if k > 50 else 'Low'}\n"
    details += f"Temperature: {'Hot' if temp > 25 else 'Warm' if temp > 15 else 'Cool'}\n"
    details += f"Humidity: {'High' if humidity > 60 else 'Medium' if humidity > 30 else 'Low'}\n"
    details += f"pH: {'Alkaline' if ph > 7.5 else 'Neutral' if ph > 6.5 else 'Acidic'}\n"
    details += f"Rainfall: {'High' if rainfall > 200 else 'Medium' if rainfall > 100 else 'Low'}\n"

    return details

# Create Gradio interface
iface = gr.Interface(
    fn=predict_crop,
    inputs=[
        gr.Number(label="Nitrogen"),
        gr.Number(label="Phosphorus"),
        gr.Number(label="Potassium"),
        gr.Number(label="Temperature (°C)"),
        gr.Number(label="Humidity (%)"),
        gr.Number(label="pH"),
        gr.Number(label="Rainfall (mm)")
    ],
    outputs="text",
    title="Crop Recommendation Assistant",
    description="Enter soil and climate conditions to get a crop recommendation."
)

# Launch the interface
iface.launch()
